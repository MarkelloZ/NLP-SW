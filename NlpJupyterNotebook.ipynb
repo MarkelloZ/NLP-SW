{
 "cells": [
  {
   "cell_type": "markdown",
   "metadata": {},
   "source": [
    "Aspect-Based Sentiment Analysis"
   ]
  },
  {
   "cell_type": "code",
   "execution_count": 41,
   "metadata": {},
   "outputs": [
    {
     "name": "stderr",
     "output_type": "stream",
     "text": [
      "[nltk_data] Downloading package punkt to\n",
      "[nltk_data]     C:\\Users\\kkmar_ymr3ruz\\AppData\\Roaming\\nltk_data...\n",
      "[nltk_data]   Package punkt is already up-to-date!\n",
      "[nltk_data] Downloading package stopwords to\n",
      "[nltk_data]     C:\\Users\\kkmar_ymr3ruz\\AppData\\Roaming\\nltk_data...\n",
      "[nltk_data]   Package stopwords is already up-to-date!\n",
      "[nltk_data] Downloading package wordnet to\n",
      "[nltk_data]     C:\\Users\\kkmar_ymr3ruz\\AppData\\Roaming\\nltk_data...\n",
      "[nltk_data]   Package wordnet is already up-to-date!\n"
     ]
    },
    {
     "data": {
      "text/plain": [
       "True"
      ]
     },
     "execution_count": 41,
     "metadata": {},
     "output_type": "execute_result"
    }
   ],
   "source": [
    "# Εισαγωγή απαραίτητων βιβλιοθηκών\n",
    "import os\n",
    "os.environ[\"TF_USE_LEGACY_KERAS\"] = \"1\"  # Χρήση legacy Keras API\n",
    "os.environ[\"TF_ENABLE_ONEDNN_OPTS\"] = \"0\"  # Απενεργοποίηση oneDNN optimizations\n",
    "\n",
    "import numpy as np  # Βιβλιοθήκη για αριθμητικές πράξεις\n",
    "import pandas as pd  # Βιβλιοθήκη για επεξεργασία δεδομένων\n",
    "import seaborn as sns  # Βιβλιοθήκη για στατιστικά γραφήματα\n",
    "import warnings  # Διαχείριση προειδοποιήσεων\n",
    "warnings.filterwarnings(\"ignore\")  # Αγνόηση προειδοποιήσεων\n",
    "import plotly.graph_objects as go  # Διαδραστικά γραφήματα\n",
    "import matplotlib.pyplot as plt  # Βιβλιοθήκη για γραφήματα\n",
    "import spacy  # Βιβλιοθήκη για επεξεργασία φυσικής γλώσσας\n",
    "import tensorflow as tf  # Βιβλιοθήκη για βαθιά μάθηση\n",
    "import ktrain  # Βιβλιοθήκη για ευκολότερη χρήση μοντέλων TensorFlow και Keras\n",
    "from ktrain import text  # Εργαλεία κειμένου από τη βιβλιοθήκη ktrain\n",
    "from sklearn.decomposition import PCA  # Ανάλυση Κύριων Συνιστωσών (PCA)\n",
    "\n",
    "from collections import Counter  # Βιβλιοθήκη για συλλογές δεδομένων\n",
    "from sklearn.feature_extraction.text import CountVectorizer, TfidfVectorizer  # Μετατροπή κειμένου σε χαρακτηριστικά\n",
    "from sklearn.decomposition import LatentDirichletAllocation  # Κατανομή Λανθανόντων Δεικτών (LDA)\n",
    "from sklearn.model_selection import train_test_split, GridSearchCV  # Διαχωρισμός δεδομένων και αναζήτηση παραμέτρων\n",
    "from sklearn.svm import SVC  # Υποστήριξη Μηχανών Διανυσμάτων (SVM)\n",
    "from sklearn.metrics import classification_report, accuracy_score, confusion_matrix  # Αξιολόγηση μοντέλων\n",
    "\n",
    "import nltk  # Βιβλιοθήκη για επεξεργασία φυσικής γλώσσας\n",
    "nltk.download('punkt')  # Λήψη tokenizer\n",
    "nltk.download('stopwords')  # Λήψη stopwords\n",
    "nltk.download('wordnet')  # Λήψη λεξιλογίου WordNet"
   ]
  },
  {
   "cell_type": "code",
   "execution_count": 42,
   "metadata": {},
   "outputs": [
    {
     "name": "stdout",
     "output_type": "stream",
     "text": [
      "Dataset shape: (199, 2)\n",
      "                                              Review  Rating\n",
      "0  nice hotel expensive parking got good deal sta...       4\n",
      "1  ok nothing special charge diamond member hilto...       2\n",
      "2  nice rooms not 4* experience hotel monaco seat...       3\n",
      "3  unique, great stay, wonderful time hotel monac...       5\n",
      "4  great stay great stay, went seahawk game aweso...       5\n"
     ]
    }
   ],
   "source": [
    "# Φόρτωση συνόλου δεδομένων\n",
    "df = pd.read_csv('50_tripadvisor_hotel_reviews.csv')\n",
    "\n",
    "# Εμφάνιση σχήματος συνόλου δεδομένων και πρώτων γραμμών\n",
    "print(\"Dataset shape:\", df.shape)\n",
    "print(df.head())"
   ]
  },
  {
   "cell_type": "code",
   "execution_count": 43,
   "metadata": {},
   "outputs": [
    {
     "data": {
      "image/png": "[encoded data removed]",
      "text/plain": [
       "<Figure size 640x480 with 1 Axes>"
      ]
     },
     "metadata": {},
     "output_type": "display_data"
    }
   ],
   "source": [
    "# Ορισμός ετικετών συναισθήματος\n",
    "pos = [4, 5]  # Θετικές βαθμολογίες\n",
    "neg = [1, 2]  # Αρνητικές βαθμολογίες\n",
    "neu = [3]  # Ουδέτερες βαθμολογίες\n",
    "\n",
    "# Συνάρτηση για μετατροπή βαθμολογίας σε κατηγορία συναισθήματος\n",
    "def sentiment(rating):\n",
    "    if rating in pos:\n",
    "        return 2  # Θετικό\n",
    "    elif rating in neg:\n",
    "        return 0  # Αρνητικό\n",
    "    else:\n",
    "        return 1  # Ουδέτερο\n",
    "\n",
    "# Εφαρμογή συνάρτησης συναισθήματος στο σύνολο δεδομένων\n",
    "df['Sentiment'] = df['Rating'].apply(sentiment)\n",
    "\n",
    "# Οπτικοποίηση κατανομής συναισθήματος\n",
    "sentiment_counts = df['Sentiment'].value_counts().sort_index()\n",
    "\n",
    "plt.bar(sentiment_counts.index, sentiment_counts.values)\n",
    "plt.title(\"Values in each Sentiment\")\n",
    "plt.xlabel(\"Sentiment\")\n",
    "plt.ylabel(\"Values\")\n",
    "plt.xticks(sentiment_counts.index, [\"Negative(0)\", \"Neutral(1)\", \"Positive(2)\"])  # Ετικέτες συναισθημάτων\n",
    "plt.show()"
   ]
  },
  {
   "cell_type": "code",
   "execution_count": 44,
   "metadata": {},
   "outputs": [
    {
     "name": "stdout",
     "output_type": "stream",
     "text": [
      "\u001b[38;5;2m✔ Download and installation successful\u001b[0m\n",
      "You can now load the package via spacy.load('en_core_web_sm')\n",
      "\u001b[38;5;3m⚠ Restart to reload dependencies\u001b[0m\n",
      "If you are in a Jupyter or Colab notebook, you may need to restart Python in\n",
      "order to load all the package's dependencies. You can do this by selecting the\n",
      "'Restart kernel' or 'Restart runtime' option.\n",
      "                                              Review  Rating  Sentiment\n",
      "0  [nice, hotel, expensive, parking, get, good, d...       4          2\n",
      "1  [ok, special, charge, diamond, member, hilton,...       2          0\n",
      "2  [nice, room, 4, experience, hotel, monaco, sea...       3          1\n",
      "3  [unique, great, stay, wonderful, time, hotel, ...       5          2\n",
      "4  [great, stay, great, stay, go, seahawk, game, ...       5          2\n"
     ]
    }
   ],
   "source": [
    "# Λήψη και φόρτωση μοντέλου SpaCy\n",
    "spacy.cli.download(\"en_core_web_sm\")\n",
    "nlp = spacy.load('en_core_web_sm')\n",
    "\n",
    "# Συνάρτηση κανονικοποίησης κειμένου\n",
    "def normalize(msg):\n",
    "    doc = nlp(msg)\n",
    "    res = [token.lemma_.lower() for token in doc if not (token.is_stop or token.is_punct or token.is_space)]\n",
    "    return res  \n",
    "\n",
    "# Εφαρμογή κανονικοποίησης στις κριτικές\n",
    "df['Review'] = df['Review'].apply(normalize)\n",
    "\n",
    "# Εμφάνιση κανονικοποιημένων κριτικών\n",
    "print(df.head())"
   ]
  },
  {
   "cell_type": "code",
   "execution_count": 45,
   "metadata": {},
   "outputs": [],
   "source": [
    "# Συνάρτηση δημιουργίας πίνακα συχνότητας λέξεων\n",
    "def create_freq_table(data):\n",
    "    words_collection = Counter([item for sublist in data for item in sublist])\n",
    "    freq_word_df = pd.DataFrame(words_collection.most_common(15))\n",
    "    freq_word_df.columns = ['frequently_used_word', 'count']\n",
    "    return freq_word_df\n",
    "\n",
    "# Πίνακες συχνότητας λέξεων για κάθε συναισθηματική κατηγορία\n",
    "freq_all = create_freq_table(df['Review'].tolist())\n",
    "freq_pos = create_freq_table(df[df['Sentiment'] == 2]['Review'].tolist())\n",
    "freq_neu = create_freq_table(df[df['Sentiment'] == 1]['Review'].tolist())\n",
    "freq_neg = create_freq_table(df[df['Sentiment'] == 0]['Review'].tolist())\n",
    "\n",
    "# Συνδυασμός όλων των συχνά χρησιμοποιούμενων λέξεων σε ένα σύνολο\n",
    "frequent_words = set(freq_all['frequently_used_word']).union(set(freq_pos['frequently_used_word'])).union(set(freq_neu['frequently_used_word'])).union(set(freq_neg['frequently_used_word']))\n",
    "\n",
    "# Δημιουργία νέων χαρακτηριστικών βασισμένων στην παρουσία αυτών των λέξεων\n",
    "for word in frequent_words:\n",
    "    df[word] = df['Review'].apply(lambda x: 1 if word in x else 0)\n"
   ]
  },
  {
   "cell_type": "markdown",
   "metadata": {},
   "source": [
    "APPLY LDA FOR TOPIC MODELING"
   ]
  },
  {
   "cell_type": "code",
   "execution_count": 46,
   "metadata": {},
   "outputs": [],
   "source": [
    "# Μετατροπή κριτικών σε ενιαίο string για κάθε κριτική\n",
    "vectorizer = TfidfVectorizer(max_df=0.95, min_df=2, stop_words='english')\n",
    "df['Review_Joined'] = df['Review'].apply(lambda x: ' '.join(x))\n",
    "dtm = vectorizer.fit_transform(df['Review_Joined'])\n",
    "\n",
    "# Εφαρμογή Latent Dirichlet Allocation για θεματολογική μοντελοποίηση\n",
    "lda = LatentDirichletAllocation(n_components=10, random_state=42)\n",
    "lda.fit(dtm)\n",
    "\n",
    "# Μετατροπή εγγράφων σε κατανομές θεμάτων\n",
    "topic_distributions = lda.transform(dtm)\n",
    "\n",
    "# Εφαρμογή PCA για μείωση διαστάσεων\n",
    "pca = PCA(n_components=10)\n",
    "topic_distributions_pca = pca.fit_transform(topic_distributions)\n",
    "\n",
    "# Συνδυασμός κατανομών θεμάτων LDA και χαρακτηριστικών συχνότητας\n",
    "X = np.hstack((topic_distributions_pca, df[list(frequent_words)]))\n"
   ]
  },
  {
   "cell_type": "markdown",
   "metadata": {},
   "source": [
    "SVM MODEL"
   ]
  },
  {
   "cell_type": "code",
   "execution_count": 47,
   "metadata": {},
   "outputs": [],
   "source": [
    "# Προετοιμασία δεδομένων για μοντέλο SVM\n",
    "y = df['Sentiment']\n",
    "X_train, X_test, y_train, y_test = train_test_split(X, y, test_size=0.2, random_state=42)\n",
    "\n",
    "# Συνάρτηση για εκπαίδευση μοντέλου SVM με αναζήτηση παραμέτρων\n",
    "def train_svm(X_train, y_train):\n",
    "    # Αναζήτηση παραμέτρων\n",
    "    parameters = {'kernel':('linear', 'rbf'), 'C':[1, 10, 100]}\n",
    "    svm = GridSearchCV(SVC(), parameters, cv=5)\n",
    "    svm.fit(X_train, y_train)\n",
    "    \n",
    "    return svm\n",
    "\n",
    "# Εκπαίδευση μοντέλου SVM\n",
    "svm_model = train_svm(X_train, y_train)\n"
   ]
  },
  {
   "cell_type": "code",
   "execution_count": 48,
   "metadata": {},
   "outputs": [
    {
     "name": "stdout",
     "output_type": "stream",
     "text": [
      "SVM Classification Report:\n",
      "              precision    recall  f1-score   support\n",
      "\n",
      "           0       1.00      0.25      0.40        12\n",
      "           1       1.00      0.33      0.50         3\n",
      "           2       0.69      1.00      0.82        25\n",
      "\n",
      "    accuracy                           0.72        40\n",
      "   macro avg       0.90      0.53      0.57        40\n",
      "weighted avg       0.81      0.72      0.67        40\n",
      "\n",
      "SVM Accuracy Score: 0.725\n",
      "SVM Confusion Matrix:\n",
      " [[ 3  0  9]\n",
      " [ 0  1  2]\n",
      " [ 0  0 25]]\n"
     ]
    }
   ],
   "source": [
    "# Αξιολόγηση του μοντέλου SVM\n",
    "X_test_predictions = svm_model.predict(X_test)\n",
    "print(\"SVM Classification Report:\")\n",
    "print(classification_report(y_test, X_test_predictions))\n",
    "print(\"SVM Accuracy Score:\", accuracy_score(y_test, X_test_predictions))\n",
    "print(\"SVM Confusion Matrix:\\n\", confusion_matrix(y_test, X_test_predictions))\n"
   ]
  },
  {
   "cell_type": "markdown",
   "metadata": {},
   "source": [
    "BERT MODEL"
   ]
  },
  {
   "cell_type": "code",
   "execution_count": 49,
   "metadata": {},
   "outputs": [
    {
     "name": "stdout",
     "output_type": "stream",
     "text": [
      "['Sentiment_0', 'Sentiment_1', 'Sentiment_2']\n",
      "     Sentiment_0  Sentiment_1  Sentiment_2\n",
      "92           1.0          0.0          0.0\n",
      "171          0.0          1.0          0.0\n",
      "76           1.0          0.0          0.0\n",
      "131          0.0          0.0          1.0\n",
      "31           0.0          0.0          1.0\n",
      "['Sentiment_0', 'Sentiment_1', 'Sentiment_2']\n",
      "     Sentiment_0  Sentiment_1  Sentiment_2\n",
      "69           1.0          0.0          0.0\n",
      "39           0.0          0.0          1.0\n",
      "143          0.0          0.0          1.0\n",
      "130          0.0          1.0          0.0\n",
      "59           0.0          0.0          1.0\n",
      "preprocessing train...\n",
      "language: en\n"
     ]
    },
    {
     "data": {
      "text/html": [
       "\n",
       "<style>\n",
       "    /* Turns off some styling */\n",
       "    progress {\n",
       "        /* gets rid of default border in Firefox and Opera. */\n",
       "        border: none;\n",
       "        /* Needs to be in here for Safari polyfill so background images work as expected. */\n",
       "        background-size: auto;\n",
       "    }\n",
       "    progress:not([value]), progress:not([value])::-webkit-progress-bar {\n",
       "        background: repeating-linear-gradient(45deg, #7e7e7e, #7e7e7e 10px, #5c5c5c 10px, #5c5c5c 20px);\n",
       "    }\n",
       "    .progress-bar-interrupted, .progress-bar-interrupted::-webkit-progress-bar {\n",
       "        background: #F44336;\n",
       "    }\n",
       "</style>\n"
      ],
      "text/plain": [
       "<IPython.core.display.HTML object>"
      ]
     },
     "metadata": {},
     "output_type": "display_data"
    },
    {
     "data": {
      "text/html": [
       "done."
      ],
      "text/plain": [
       "<IPython.core.display.HTML object>"
      ]
     },
     "metadata": {},
     "output_type": "display_data"
    },
    {
     "name": "stdout",
     "output_type": "stream",
     "text": [
      "Is Multi-Label? False\n",
      "preprocessing test...\n",
      "language: en\n"
     ]
    },
    {
     "data": {
      "text/html": [
       "\n",
       "<style>\n",
       "    /* Turns off some styling */\n",
       "    progress {\n",
       "        /* gets rid of default border in Firefox and Opera. */\n",
       "        border: none;\n",
       "        /* Needs to be in here for Safari polyfill so background images work as expected. */\n",
       "        background-size: auto;\n",
       "    }\n",
       "    progress:not([value]), progress:not([value])::-webkit-progress-bar {\n",
       "        background: repeating-linear-gradient(45deg, #7e7e7e, #7e7e7e 10px, #5c5c5c 10px, #5c5c5c 20px);\n",
       "    }\n",
       "    .progress-bar-interrupted, .progress-bar-interrupted::-webkit-progress-bar {\n",
       "        background: #F44336;\n",
       "    }\n",
       "</style>\n"
      ],
      "text/plain": [
       "<IPython.core.display.HTML object>"
      ]
     },
     "metadata": {},
     "output_type": "display_data"
    },
    {
     "data": {
      "text/html": [
       "done."
      ],
      "text/plain": [
       "<IPython.core.display.HTML object>"
      ]
     },
     "metadata": {},
     "output_type": "display_data"
    }
   ],
   "source": [
    "# Προετοιμασία δεδομένων για μοντέλο BERT\n",
    "df['Review'] = df['Review_Joined']\n",
    "(x_train, y_train), (x_test, y_test), preproc = text.texts_from_df(df, 'Review', label_columns=['Sentiment'], preprocess_mode='bert')"
   ]
  },
  {
   "cell_type": "code",
   "execution_count": 50,
   "metadata": {},
   "outputs": [
    {
     "name": "stdout",
     "output_type": "stream",
     "text": [
      "Is Multi-Label? False\n",
      "maxlen is 400\n",
      "done.\n",
      "\n",
      "\n",
      "begin training using onecycle policy with max lr of 2e-05...\n",
      "Epoch 1/3\n",
      "30/30 [==============================] - 135s 4s/step - loss: 0.9125 - accuracy: 0.6089 - val_loss: 0.8457 - val_accuracy: 0.6000\n",
      "Epoch 2/3\n",
      "30/30 [==============================] - 117s 4s/step - loss: 0.6613 - accuracy: 0.7542 - val_loss: 0.6472 - val_accuracy: 0.8500\n",
      "Epoch 3/3\n",
      "30/30 [==============================] - 117s 4s/step - loss: 0.4513 - accuracy: 0.8492 - val_loss: 0.5691 - val_accuracy: 0.8000\n"
     ]
    },
    {
     "data": {
      "text/plain": [
       "<tf_keras.src.callbacks.History at 0x1ce834d7860>"
      ]
     },
     "execution_count": 50,
     "metadata": {},
     "output_type": "execute_result"
    }
   ],
   "source": [
    "# Δημιουργία και εκπαίδευση μοντέλου BERT\n",
    "model = text.text_classifier(name='bert', train_data=(x_train, y_train), preproc=preproc)\n",
    "learner = ktrain.get_learner(model=model, train_data=(x_train, y_train), val_data=(x_test, y_test), batch_size=6)\n",
    "learner.fit_onecycle(lr=2e-5, epochs=3)  # Αυξημένος αριθμός epochs για βελτίωση της εκπαίδευσης"
   ]
  },
  {
   "cell_type": "code",
   "execution_count": 51,
   "metadata": {},
   "outputs": [
    {
     "name": "stdout",
     "output_type": "stream",
     "text": [
      "1/1 [==============================] - 7s 7s/step\n",
      "              precision    recall  f1-score   support\n",
      "\n",
      "           0       1.00      0.83      0.91         6\n",
      "           1       0.00      0.00      0.00         2\n",
      "           2       0.79      0.92      0.85        12\n",
      "\n",
      "    accuracy                           0.80        20\n",
      "   macro avg       0.60      0.58      0.59        20\n",
      "weighted avg       0.77      0.80      0.78        20\n",
      "\n"
     ]
    },
    {
     "data": {
      "text/plain": [
       "array([[ 5,  0,  1],\n",
       "       [ 0,  0,  2],\n",
       "       [ 0,  1, 11]], dtype=int64)"
      ]
     },
     "execution_count": 51,
     "metadata": {},
     "output_type": "execute_result"
    }
   ],
   "source": [
    "# Αξιολόγηση του μοντέλου BERT\n",
    "learner.validate(val_data=(x_test, y_test))"
   ]
  }
 ],
 "metadata": {
  "kernelspec": {
   "display_name": "Python 3",
   "language": "python",
   "name": "python3"
  },
  "language_info": {
   "codemirror_mode": {
    "name": "ipython",
    "version": 3
   },
   "file_extension": ".py",
   "mimetype": "text/x-python",
   "name": "python",
   "nbconvert_exporter": "python",
   "pygments_lexer": "ipython3",
   "version": "3.12.4"
  }
 },
 "nbformat": 4,
 "nbformat_minor": 2
}
